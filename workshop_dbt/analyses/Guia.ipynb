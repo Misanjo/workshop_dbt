{
 "cells": [
  {
   "cell_type": "markdown",
   "id": "e5d0dff9",
   "metadata": {},
   "source": [
    "# Workshop dbt"
   ]
  },
  {
   "cell_type": "markdown",
   "id": "f327c8ae",
   "metadata": {},
   "source": [
    "En primer lugar descargamos e instalamos dbt (data build tool). En este caso usaremos la versión para duckdb, pero dbt soporta otros motores de bases de datos como PostgreSQL, Snowflake, BigQuery, etc.\n",
    "Se recomienda crear un entorno virtual para instalar dbt y sus dependencias. En Windows podemos usar venv\n",
    "Todo el software necesario se puede instalar con pip"
   ]
  },
  {
   "cell_type": "markdown",
   "id": "77a000e3",
   "metadata": {},
   "source": [
    "Una vez instalado dbt y creado el entorno virtual, iniciamos un nuevo proyecto con el comando `dbt init` y seguimos las instrucciones en pantalla. Esto creará una estructura de directorios básica para nuestro proyecto dbt.\n",
    "Así como un perfil en la carpeta Users/<user>/.dbt/profiles.yml"
   ]
  },
  {
   "cell_type": "markdown",
   "id": "84c037c0",
   "metadata": {},
   "source": [
    "```markdown\n",
    "(.venv) PS C:\\GIT\\dbt> dbt init\n",
    "21:57:10  Running with dbt=1.10.9\n",
    "Enter a name for your project (letters, digits, underscore): workshop_dbt\n",
    "21:57:32  \n",
    "Your new dbt project \"workshop_dbt\" was created!\n",
    "\n",
    "For more information on how to configure the profiles.yml file,\n",
    "please consult the dbt documentation here:\n",
    "\n",
    "  https://docs.getdbt.com/docs/configure-your-profile\n",
    "\n",
    "One more thing:\n",
    "\n",
    "Need help? Don't hesitate to reach out to us via GitHub issues or on Slack:\n",
    "\n",
    "  https://community.getdbt.com/\n",
    "\n",
    "Happy modeling!\n",
    "\n",
    "21:57:32  Setting up your profile.\n",
    "Which database would you like to use?\n",
    "[1] duckdb\n",
    "\n",
    "(Don't see the one you want? https://docs.getdbt.com/docs/available-adapters)\n",
    "\n",
    "Enter a number: 1\n",
    "```"
   ]
  },
  {
   "cell_type": "markdown",
   "id": "ad90234d",
   "metadata": {
    "vscode": {
     "languageId": "bat"
    }
   },
   "source": [
    "Para la conexión entre el proyecto dbt y la base de datos que se utilice se usarán los ficheros C:/Users/< user >/.dbt/profiles.yml y dbt_project.yml."
   ]
  },
  {
   "cell_type": "markdown",
   "id": "417826e4",
   "metadata": {},
   "source": [
    "## Proyecto dbt"
   ]
  },
  {
   "cell_type": "markdown",
   "id": "727ac1da",
   "metadata": {
    "vscode": {
     "languageId": "bat"
    }
   },
   "source": [
    "En este ejemplo vamos a ver la carga de una serie de ficheros en la capa bronze del proyecto para después transformarlos en las distintas capas mediante modelos dbt hasta llegar a un modelo analítico en la capa gold."
   ]
  },
  {
   "cell_type": "markdown",
   "id": "b3e22b03",
   "metadata": {},
   "source": [
    "![arquitectura](arquitectura.svg)"
   ]
  },
  {
   "cell_type": "code",
   "execution_count": 2,
   "id": "727aef78",
   "metadata": {},
   "outputs": [
    {
     "name": "stdout",
     "output_type": "stream",
     "text": [
      "c:\\GIT\\dbt\\workshop_dbt\n"
     ]
    }
   ],
   "source": [
    "cd workshop_dbt"
   ]
  },
  {
   "cell_type": "markdown",
   "id": "9e126821",
   "metadata": {},
   "source": [
    "## Capa bronze"
   ]
  },
  {
   "cell_type": "markdown",
   "id": "4d4a3282",
   "metadata": {},
   "source": [
    "dbt es una herramienta de transformación de datos, no de ingesta de los mismos. Por tanto no aporta funcionalidades avanzadas para la carga de ficheros, sin embargo, sí que aporta la funcionalidad de seeds para la carga de datos para pequeñas tablas o para realizar validaciones de datos."
   ]
  },
  {
   "cell_type": "markdown",
   "id": "21aa751f",
   "metadata": {},
   "source": [
    "En primer lugar vamos a cargar las tablas en la capa bronze, para ello vamos a utilizar la propia funcionalidad de duckdb para carga de ficheros csv, en las tablas cabecera_tickets_manual, lineas_tickets_manual y centros_manual."
   ]
  },
  {
   "cell_type": "code",
   "execution_count": 17,
   "id": "1e031c27",
   "metadata": {},
   "outputs": [
    {
     "name": "stdout",
     "output_type": "stream",
     "text": [
      "┌───────────────┬─────────────────┬──────────────┐\n",
      "│ total_centros │ total_cabeceras │ total_lineas │\n",
      "│     int64     │      int64      │    int64     │\n",
      "├───────────────┼─────────────────┼──────────────┤\n",
      "│            10 │              20 │           82 │\n",
      "└───────────────┴─────────────────┴──────────────┘\n",
      "┌───────────────────────┬────────────┬────────────────────────┬───────────┬──────────────────────┬─────────┬─────────────────────────┐\n",
      "│         tabla         │ cod_centro │     nombre_centro      │  ciudad   │        region        │ estado  │        ts_insert        │\n",
      "│        varchar        │  varchar   │        varchar         │  varchar  │       varchar        │ varchar │        timestamp        │\n",
      "├───────────────────────┼────────────┼────────────────────────┼───────────┼──────────────────────┼─────────┼─────────────────────────┤\n",
      "│ bronze.centros_manual │ CENT001    │ Centro Comercial Norte │ Madrid    │ Madrid               │ Activo  │ 2025-08-30 17:51:11.735 │\n",
      "│ bronze.centros_manual │ CENT002    │ Centro Comercial Sur   │ Barcelona │ Cataluña             │ Activo  │ 2025-08-30 17:51:11.735 │\n",
      "│ bronze.centros_manual │ CENT003    │ Centro Comercial Este  │ Valencia  │ Comunidad Valenciana │ Activo  │ 2025-08-30 17:51:11.735 │\n",
      "└───────────────────────┴────────────┴────────────────────────┴───────────┴──────────────────────┴─────────┴─────────────────────────┘\n",
      "┌────────────────────────────────┬───────────┬────────────┬──────────────┬─────────────┬──────────────┬─────────────┬──────────┬────────────────────────┐\n",
      "│             tabla              │ id_ticket │ cod_centro │ fecha_ticket │ hora_ticket │ total_ticket │ metodo_pago │ empleado │       ts_insert        │\n",
      "│            varchar             │  varchar  │  varchar   │   varchar    │   varchar   │   varchar    │   varchar   │ varchar  │       timestamp        │\n",
      "├────────────────────────────────┼───────────┼────────────┼──────────────┼─────────────┼──────────────┼─────────────┼──────────┼────────────────────────┤\n",
      "│ bronze.cabecera_tickets_manual │ TICK001   │ CENT001    │ 2025-01-15   │ 10:30:45    │ 150.50       │ Tarjeta     │ EMP023   │ 2025-08-30 17:51:11.74 │\n",
      "│ bronze.cabecera_tickets_manual │ TICK002   │ CENT001    │ 2025-01-15   │ 11:15:20    │ 89.75        │ Efectivo    │ EMP045   │ 2025-08-30 17:51:11.74 │\n",
      "│ bronze.cabecera_tickets_manual │ TICK003   │ CENT002    │ 2025-01-15   │ 12:05:30    │ 234.90       │ Tarjeta     │ EMP067   │ 2025-08-30 17:51:11.74 │\n",
      "└────────────────────────────────┴───────────┴────────────┴──────────────┴─────────────┴──────────────┴─────────────┴──────────┴────────────────────────┘\n",
      "┌──────────────────────────────┬───────────┬─────────────────┬──────────────┬────────────────────┬──────────┬─────────────────┬─────────────┬─────────────────────────┐\n",
      "│            tabla             │ id_ticket │ id_linea_ticket │ cod_producto │  nombre_producto   │ cantidad │ precio_unitario │ total_linea │        ts_insert        │\n",
      "│           varchar            │  varchar  │     varchar     │   varchar    │      varchar       │ varchar  │     varchar     │   varchar   │        timestamp        │\n",
      "├──────────────────────────────┼───────────┼─────────────────┼──────────────┼────────────────────┼──────────┼─────────────────┼─────────────┼─────────────────────────┤\n",
      "│ bronze.lineas_tickets_manual │ TICK001   │ 1               │ PROD1001     │ Camiseta Básica    │ 2        │ 25.00           │ 50.00       │ 2025-08-30 17:51:11.743 │\n",
      "│ bronze.lineas_tickets_manual │ TICK001   │ 2               │ PROD1002     │ Pantalón Jeans     │ 1        │ 45.50           │ 45.50       │ 2025-08-30 17:51:11.743 │\n",
      "│ bronze.lineas_tickets_manual │ TICK001   │ 3               │ PROD1003     │ Zapatos Deportivos │ 1        │ 55.00           │ 55.00       │ 2025-08-30 17:51:11.743 │\n",
      "│ bronze.lineas_tickets_manual │ TICK002   │ 1               │ PROD1004     │ Bolso de Mano      │ 1        │ 89.75           │ 89.75       │ 2025-08-30 17:51:11.743 │\n",
      "│ bronze.lineas_tickets_manual │ TICK003   │ 1               │ PROD1005     │ Chaqueta Invierno  │ 1        │ 120.00          │ 120.00      │ 2025-08-30 17:51:11.743 │\n",
      "└──────────────────────────────┴───────────┴─────────────────┴──────────────┴────────────────────┴──────────┴─────────────────┴─────────────┴─────────────────────────┘\n"
     ]
    }
   ],
   "source": [
    "!duckdb.exe dev.db -s \".read analyses/tables_manual_bronze.sql\""
   ]
  },
  {
   "cell_type": "markdown",
   "id": "47a8ff44",
   "metadata": {},
   "source": [
    "Pasando a utilizar las funcionales de dbt también podemos cargar las tablas en la capa bronze con el comando: dbt seed, este comando buscará en todos los ficheros .yml el atributo \"seeds\" y lanzará la carga del fichero csv que tiene el mismo nombre siempre con la estrategia truncate/insert y sin dejar la opción de cargar distintos ficheros por cada tabla."
   ]
  },
  {
   "cell_type": "markdown",
   "id": "0f3bbf52",
   "metadata": {},
   "source": [
    "En el caso de nuestro proyecto tenemos un único fichero de seeds ubicado en la carpeta seeds que cargará las tablas cabecera_tickets, lineas_tickets y centros (las mismas que hemos cargado anteriormente eliminando el sufijo)."
   ]
  },
  {
   "cell_type": "code",
   "execution_count": 15,
   "id": "81fd4781",
   "metadata": {},
   "outputs": [
    {
     "name": "stdout",
     "output_type": "stream",
     "text": [
      "\u001b[0m15:48:52  Running with dbt=1.10.9\n",
      "\u001b[0m15:48:52  Registered adapter: duckdb=1.9.4\n",
      "\u001b[0m15:48:53  Found 14 models, 1 analysis, 3 seeds, 5 operations, 156 data tests, 6 sources, 849 macros\n",
      "\u001b[0m15:48:53  \n",
      "\u001b[0m15:48:53  Concurrency: 1 threads (target='dev')\n",
      "\u001b[0m15:48:53  \n",
      "\u001b[0m15:48:53  Iniciando ejecución de dbt\n",
      "\u001b[0m15:48:53  1 of 3 START hook: workshop_dbt.on-run-start.0 ................................. [RUN]\n",
      "\u001b[0m15:48:53  1 of 3 OK hook: workshop_dbt.on-run-start.0 .................................... [\u001b[32mOK\u001b[0m in 0.01s]\n",
      "\u001b[0m15:48:53  Tabla de auditoría ya existe: main.dbt_audit\n",
      "\u001b[0m15:48:53  2 of 3 START hook: workshop_dbt.on-run-start.1 ................................. [RUN]\n",
      "\u001b[0m15:48:53  2 of 3 OK hook: workshop_dbt.on-run-start.1 .................................... [\u001b[32mOK\u001b[0m in 0.01s]\n",
      "\u001b[0m15:48:53  Inicio de ejecución registrado en auditoría. ID: 9\n",
      "\u001b[0m15:48:53  3 of 3 START hook: workshop_dbt.on-run-start.2 ................................. [RUN]\n",
      "\u001b[0m15:48:53  3 of 3 OK hook: workshop_dbt.on-run-start.2 .................................... [\u001b[32mOK\u001b[0m in 0.01s]\n",
      "\u001b[0m15:48:53  \n",
      "\u001b[0m15:48:53  1 of 3 START seed file bronze.cabecera_tickets ................................. [RUN]\n",
      "\u001b[0m15:48:53  1 of 3 OK loaded seed file bronze.cabecera_tickets ............................. [\u001b[32mINSERT 20\u001b[0m in 0.05s]\n",
      "\u001b[0m15:48:53  2 of 3 START seed file bronze.centros .......................................... [RUN]\n",
      "\u001b[0m15:48:53  2 of 3 OK loaded seed file bronze.centros ...................................... [\u001b[32mINSERT 10\u001b[0m in 0.02s]\n",
      "\u001b[0m15:48:53  3 of 3 START seed file bronze.lineas_tickets ................................... [RUN]\n",
      "\u001b[0m15:48:53  3 of 3 OK loaded seed file bronze.lineas_tickets ............................... [\u001b[32mINSERT 82\u001b[0m in 0.02s]\n",
      "\u001b[0m15:48:53  \n",
      "\u001b[0m15:48:53  Finalizando ejecución de dbt\n",
      "\u001b[0m15:48:53  1 of 2 START hook: workshop_dbt.on-run-end.0 ................................... [RUN]\n",
      "\u001b[0m15:48:53  1 of 2 OK hook: workshop_dbt.on-run-end.0 ...................................... [\u001b[32mOK\u001b[0m in 0.00s]\n",
      "\u001b[0m15:48:53  Final de ejecución registrado en auditoría. ID: 9, Tiempo: 0.456311s\n",
      "\u001b[0m15:48:53  2 of 2 START hook: workshop_dbt.on-run-end.1 ................................... [RUN]\n",
      "\u001b[0m15:48:53  2 of 2 OK hook: workshop_dbt.on-run-end.1 ...................................... [\u001b[32mOK\u001b[0m in 0.01s]\n",
      "\u001b[0m15:48:53  \n",
      "\u001b[0m15:48:53  Finished running 5 project hooks, 3 seeds in 0 hours 0 minutes and 0.31 seconds (0.31s).\n",
      "\u001b[0m15:48:53  \n",
      "\u001b[0m15:48:53  \u001b[32mCompleted successfully\u001b[0m\n",
      "\u001b[0m15:48:53  \n",
      "\u001b[0m15:48:53  Done. PASS=8 WARN=0 ERROR=0 SKIP=0 NO-OP=0 TOTAL=8\n"
     ]
    }
   ],
   "source": [
    "!dbt seed"
   ]
  },
  {
   "cell_type": "code",
   "execution_count": 18,
   "id": "c2f6b80d",
   "metadata": {},
   "outputs": [
    {
     "name": "stdout",
     "output_type": "stream",
     "text": [
      "┌───────────────┬─────────────────┬──────────────┐\n",
      "│ total_centros │ total_cabeceras │ total_lineas │\n",
      "│     int64     │      int64      │    int64     │\n",
      "├───────────────┼─────────────────┼──────────────┤\n",
      "│            10 │              20 │           82 │\n",
      "└───────────────┴─────────────────┴──────────────┘\n",
      "┌────────────────┬────────────┬────────────────────────┬───────────┬──────────────────────┬─────────┐\n",
      "│     tabla      │ cod_centro │     nombre_centro      │  ciudad   │        region        │ estado  │\n",
      "│    varchar     │  varchar   │        varchar         │  varchar  │       varchar        │ varchar │\n",
      "├────────────────┼────────────┼────────────────────────┼───────────┼──────────────────────┼─────────┤\n",
      "│ bronze.centros │ CENT001    │ Centro Comercial Norte │ Madrid    │ Madrid               │ Activo  │\n",
      "│ bronze.centros │ CENT002    │ Centro Comercial Sur   │ Barcelona │ Cataluña             │ Activo  │\n",
      "│ bronze.centros │ CENT003    │ Centro Comercial Este  │ Valencia  │ Comunidad Valenciana │ Activo  │\n",
      "└────────────────┴────────────┴────────────────────────┴───────────┴──────────────────────┴─────────┘\n",
      "┌─────────────────────────┬───────────┬────────────┬──────────────┬─────────────┬──────────────┬─────────────┬──────────┐\n",
      "│          tabla          │ id_ticket │ cod_centro │ fecha_ticket │ hora_ticket │ total_ticket │ metodo_pago │ empleado │\n",
      "│         varchar         │  varchar  │  varchar   │     date     │   varchar   │    double    │   varchar   │ varchar  │\n",
      "├─────────────────────────┼───────────┼────────────┼──────────────┼─────────────┼──────────────┼─────────────┼──────────┤\n",
      "│ bronze.cabecera_tickets │ TICK001   │ CENT001    │ 2025-01-15   │ 10:30:45    │        150.5 │ Tarjeta     │ EMP023   │\n",
      "│ bronze.cabecera_tickets │ TICK002   │ CENT001    │ 2025-01-15   │ 11:15:20    │        89.75 │ Efectivo    │ EMP045   │\n",
      "│ bronze.cabecera_tickets │ TICK003   │ CENT002    │ 2025-01-15   │ 12:05:30    │        234.9 │ Tarjeta     │ EMP067   │\n",
      "└─────────────────────────┴───────────┴────────────┴──────────────┴─────────────┴──────────────┴─────────────┴──────────┘\n",
      "┌───────────────────────┬───────────┬─────────────────┬──────────────┬────────────────────┬──────────┬─────────────────┬─────────────┐\n",
      "│         tabla         │ id_ticket │ id_linea_ticket │ cod_producto │  nombre_producto   │ cantidad │ precio_unitario │ total_linea │\n",
      "│        varchar        │  varchar  │      int32      │   varchar    │      varchar       │  int32   │     double      │   double    │\n",
      "├───────────────────────┼───────────┼─────────────────┼──────────────┼────────────────────┼──────────┼─────────────────┼─────────────┤\n",
      "│ bronze.lineas_tickets │ TICK001   │               1 │ PROD1001     │ Camiseta Básica    │        2 │            25.0 │        50.0 │\n",
      "│ bronze.lineas_tickets │ TICK001   │               2 │ PROD1002     │ Pantalón Jeans     │        1 │            45.5 │        45.5 │\n",
      "│ bronze.lineas_tickets │ TICK001   │               3 │ PROD1003     │ Zapatos Deportivos │        1 │            55.0 │        55.0 │\n",
      "│ bronze.lineas_tickets │ TICK002   │               1 │ PROD1004     │ Bolso de Mano      │        1 │           89.75 │       89.75 │\n",
      "│ bronze.lineas_tickets │ TICK003   │               1 │ PROD1005     │ Chaqueta Invierno  │        1 │           120.0 │       120.0 │\n",
      "└───────────────────────┴───────────┴─────────────────┴──────────────┴────────────────────┴──────────┴─────────────────┴─────────────┘\n"
     ]
    }
   ],
   "source": [
    "!duckdb.exe dev.db -s \".read analyses/select_seed.sql\""
   ]
  },
  {
   "cell_type": "markdown",
   "id": "e9414340",
   "metadata": {},
   "source": [
    "Sobre estos datos ya podemos pasar algunos tests que están definidos dentro del propio fichero seeds (también podían estar )"
   ]
  },
  {
   "cell_type": "code",
   "execution_count": 19,
   "id": "8a8254b7",
   "metadata": {},
   "outputs": [
    {
     "name": "stdout",
     "output_type": "stream",
     "text": [
      "\u001b[0m16:34:04  Running with dbt=1.10.9\n",
      "\u001b[0m16:34:05  Registered adapter: duckdb=1.9.4\n",
      "\u001b[0m16:34:05  Unable to do partial parsing because a project config has changed\n",
      "\u001b[0m16:34:06  Iniciando ejecución de dbt\n",
      "\u001b[0m16:34:06  Tabla de auditoría creada: main.dbt_audit\n",
      "\u001b[0m16:34:06  Inicio de ejecución registrado en auditoría. ID: 1\n",
      "\u001b[0m16:34:06  Finalizando ejecución de dbt\n",
      "\u001b[0m16:34:06  No se encontró ejecución pendiente para actualizar\n",
      "\u001b[0m16:34:06  Found 14 models, 2 analyses, 3 seeds, 5 operations, 156 data tests, 6 sources, 849 macros\n",
      "\u001b[0m16:34:06  \n",
      "\u001b[0m16:34:06  Concurrency: 1 threads (target='dev')\n",
      "\u001b[0m16:34:06  \n",
      "\u001b[0m16:34:07  Iniciando ejecución de dbt\n",
      "\u001b[0m16:34:07  1 of 3 START hook: workshop_dbt.on-run-start.0 ................................. [RUN]\n",
      "\u001b[0m16:34:07  1 of 3 OK hook: workshop_dbt.on-run-start.0 .................................... [\u001b[32mOK\u001b[0m in 0.01s]\n",
      "\u001b[0m16:34:07  Tabla de auditoría ya existe: main.dbt_audit\n",
      "\u001b[0m16:34:07  2 of 3 START hook: workshop_dbt.on-run-start.1 ................................. [RUN]\n",
      "\u001b[0m16:34:07  2 of 3 OK hook: workshop_dbt.on-run-start.1 .................................... [\u001b[32mOK\u001b[0m in 0.01s]\n",
      "\u001b[0m16:34:07  Inicio de ejecución registrado en auditoría. ID: 10\n",
      "\u001b[0m16:34:07  3 of 3 START hook: workshop_dbt.on-run-start.2 ................................. [RUN]\n",
      "\u001b[0m16:34:07  3 of 3 OK hook: workshop_dbt.on-run-start.2 .................................... [\u001b[32mOK\u001b[0m in 0.01s]\n",
      "\u001b[0m16:34:07  \n",
      "\u001b[0m16:34:07  1 of 26 START test accepted_values_cabecera_tickets_metodo_pago__Tarjeta__Efectivo__Transferencia__Bizum  [RUN]\n",
      "\u001b[0m16:34:07  1 of 26 PASS accepted_values_cabecera_tickets_metodo_pago__Tarjeta__Efectivo__Transferencia__Bizum  [\u001b[32mPASS\u001b[0m in 0.02s]\n",
      "\u001b[0m16:34:07  2 of 26 START test accepted_values_centros_estado__Activo__Inactivo__Mantenimiento  [RUN]\n",
      "\u001b[0m16:34:07  2 of 26 PASS accepted_values_centros_estado__Activo__Inactivo__Mantenimiento ... [\u001b[32mPASS\u001b[0m in 0.01s]\n",
      "\u001b[0m16:34:07  3 of 26 START test fk_cabecera_centro .......................................... [RUN]\n",
      "\u001b[0m16:34:07  3 of 26 PASS fk_cabecera_centro ................................................ [\u001b[32mPASS\u001b[0m in 0.01s]\n",
      "\u001b[0m16:34:07  4 of 26 START test fk_lineas_cabecera .......................................... [RUN]\n",
      "\u001b[0m16:34:07  4 of 26 PASS fk_lineas_cabecera ................................................ [\u001b[32mPASS\u001b[0m in 0.01s]\n",
      "\u001b[0m16:34:07  5 of 26 START test not_null_cabecera_tickets_cod_centro ........................ [RUN]\n",
      "\u001b[0m16:34:07  5 of 26 PASS not_null_cabecera_tickets_cod_centro .............................. [\u001b[32mPASS\u001b[0m in 0.01s]\n",
      "\u001b[0m16:34:07  6 of 26 START test not_null_cabecera_tickets_empleado .......................... [RUN]\n",
      "\u001b[0m16:34:07  6 of 26 PASS not_null_cabecera_tickets_empleado ................................ [\u001b[32mPASS\u001b[0m in 0.01s]\n",
      "\u001b[0m16:34:07  7 of 26 START test not_null_cabecera_tickets_fecha_ticket ...................... [RUN]\n",
      "\u001b[0m16:34:07  7 of 26 PASS not_null_cabecera_tickets_fecha_ticket ............................ [\u001b[32mPASS\u001b[0m in 0.01s]\n",
      "\u001b[0m16:34:07  8 of 26 START test not_null_cabecera_tickets_hora_ticket ....................... [RUN]\n",
      "\u001b[0m16:34:07  8 of 26 PASS not_null_cabecera_tickets_hora_ticket ............................. [\u001b[32mPASS\u001b[0m in 0.01s]\n",
      "\u001b[0m16:34:07  9 of 26 START test not_null_cabecera_tickets_id_ticket ......................... [RUN]\n",
      "\u001b[0m16:34:07  9 of 26 PASS not_null_cabecera_tickets_id_ticket ............................... [\u001b[32mPASS\u001b[0m in 0.01s]\n",
      "\u001b[0m16:34:07  10 of 26 START test not_null_cabecera_tickets_metodo_pago ...................... [RUN]\n",
      "\u001b[0m16:34:07  10 of 26 PASS not_null_cabecera_tickets_metodo_pago ............................ [\u001b[32mPASS\u001b[0m in 0.01s]\n",
      "\u001b[0m16:34:07  11 of 26 START test not_null_cabecera_tickets_total_ticket ..................... [RUN]\n",
      "\u001b[0m16:34:07  11 of 26 PASS not_null_cabecera_tickets_total_ticket ........................... [\u001b[32mPASS\u001b[0m in 0.01s]\n",
      "\u001b[0m16:34:07  12 of 26 START test not_null_centros_ciudad .................................... [RUN]\n",
      "\u001b[0m16:34:07  12 of 26 PASS not_null_centros_ciudad .......................................... [\u001b[32mPASS\u001b[0m in 0.01s]\n",
      "\u001b[0m16:34:07  13 of 26 START test not_null_centros_cod_centro ................................ [RUN]\n",
      "\u001b[0m16:34:07  13 of 26 PASS not_null_centros_cod_centro ...................................... [\u001b[32mPASS\u001b[0m in 0.01s]\n",
      "\u001b[0m16:34:07  14 of 26 START test not_null_centros_nombre_centro ............................. [RUN]\n",
      "\u001b[0m16:34:07  14 of 26 PASS not_null_centros_nombre_centro ................................... [\u001b[32mPASS\u001b[0m in 0.01s]\n",
      "\u001b[0m16:34:07  15 of 26 START test not_null_lineas_tickets_cantidad ........................... [RUN]\n",
      "\u001b[0m16:34:07  15 of 26 PASS not_null_lineas_tickets_cantidad ................................. [\u001b[32mPASS\u001b[0m in 0.01s]\n",
      "\u001b[0m16:34:07  16 of 26 START test not_null_lineas_tickets_cod_producto ....................... [RUN]\n",
      "\u001b[0m16:34:07  16 of 26 PASS not_null_lineas_tickets_cod_producto ............................. [\u001b[32mPASS\u001b[0m in 0.01s]\n",
      "\u001b[0m16:34:07  17 of 26 START test not_null_lineas_tickets_id_linea_ticket .................... [RUN]\n",
      "\u001b[0m16:34:07  17 of 26 PASS not_null_lineas_tickets_id_linea_ticket .......................... [\u001b[32mPASS\u001b[0m in 0.01s]\n",
      "\u001b[0m16:34:07  18 of 26 START test not_null_lineas_tickets_id_ticket .......................... [RUN]\n",
      "\u001b[0m16:34:07  18 of 26 PASS not_null_lineas_tickets_id_ticket ................................ [\u001b[32mPASS\u001b[0m in 0.01s]\n",
      "\u001b[0m16:34:07  19 of 26 START test not_null_lineas_tickets_nombre_producto .................... [RUN]\n",
      "\u001b[0m16:34:07  19 of 26 PASS not_null_lineas_tickets_nombre_producto .......................... [\u001b[32mPASS\u001b[0m in 0.01s]\n",
      "\u001b[0m16:34:07  20 of 26 START test not_null_lineas_tickets_precio_unitario .................... [RUN]\n",
      "\u001b[0m16:34:07  20 of 26 PASS not_null_lineas_tickets_precio_unitario .......................... [\u001b[32mPASS\u001b[0m in 0.01s]\n",
      "\u001b[0m16:34:07  21 of 26 START test not_null_lineas_tickets_total_linea ........................ [RUN]\n",
      "\u001b[0m16:34:07  21 of 26 PASS not_null_lineas_tickets_total_linea .............................. [\u001b[32mPASS\u001b[0m in 0.01s]\n",
      "\u001b[0m16:34:07  22 of 26 START test source_relationships_bronze_cabecera_tickets_cod_centro__cod_centro__ref_centros_  [RUN]\n",
      "\u001b[0m16:34:07  22 of 26 PASS source_relationships_bronze_cabecera_tickets_cod_centro__cod_centro__ref_centros_  [\u001b[32mPASS\u001b[0m in 0.01s]\n",
      "\u001b[0m16:34:07  23 of 26 START test source_relationships_bronze_lineas_tickets_id_ticket__id_ticket__ref_cabecera_tickets_  [RUN]\n",
      "\u001b[0m16:34:07  23 of 26 PASS source_relationships_bronze_lineas_tickets_id_ticket__id_ticket__ref_cabecera_tickets_  [\u001b[32mPASS\u001b[0m in 0.01s]\n",
      "\u001b[0m16:34:07  24 of 26 START test unique_cabecera_tickets_id_ticket .......................... [RUN]\n",
      "\u001b[0m16:34:07  24 of 26 PASS unique_cabecera_tickets_id_ticket ................................ [\u001b[32mPASS\u001b[0m in 0.02s]\n",
      "\u001b[0m16:34:07  25 of 26 START test unique_centros_cod_centro .................................. [RUN]\n",
      "\u001b[0m16:34:07  25 of 26 PASS unique_centros_cod_centro ........................................ [\u001b[32mPASS\u001b[0m in 0.01s]\n",
      "\u001b[0m16:34:07  26 of 26 START test unique_ticket_linea ........................................ [RUN]\n",
      "\u001b[0m16:34:07  26 of 26 PASS unique_ticket_linea .............................................. [\u001b[32mPASS\u001b[0m in 0.01s]\n",
      "\u001b[0m16:34:07  \n",
      "\u001b[0m16:34:07  Finalizando ejecución de dbt\n",
      "\u001b[0m16:34:07  1 of 2 START hook: workshop_dbt.on-run-end.0 ................................... [RUN]\n",
      "\u001b[0m16:34:07  1 of 2 OK hook: workshop_dbt.on-run-end.0 ...................................... [\u001b[32mOK\u001b[0m in 0.00s]\n",
      "\u001b[0m16:34:07  Final de ejecución registrado en auditoría. ID: 10, Tiempo: 0.439887s\n",
      "\u001b[0m16:34:07  2 of 2 START hook: workshop_dbt.on-run-end.1 ................................... [RUN]\n",
      "\u001b[0m16:34:07  2 of 2 OK hook: workshop_dbt.on-run-end.1 ...................................... [\u001b[32mOK\u001b[0m in 0.01s]\n",
      "\u001b[0m16:34:07  \n",
      "\u001b[0m16:34:07  Finished running 5 project hooks, 26 data tests in 0 hours 0 minutes and 0.47 seconds (0.47s).\n",
      "\u001b[0m16:34:07  \n",
      "\u001b[0m16:34:07  \u001b[32mCompleted successfully\u001b[0m\n",
      "\u001b[0m16:34:07  \n",
      "\u001b[0m16:34:07  Done. PASS=31 WARN=0 ERROR=0 SKIP=0 NO-OP=0 TOTAL=31\n"
     ]
    }
   ],
   "source": [
    "!dbt test --select tag:tag_seed"
   ]
  },
  {
   "cell_type": "code",
   "execution_count": 20,
   "id": "e5c3aa26",
   "metadata": {},
   "outputs": [
    {
     "name": "stdout",
     "output_type": "stream",
     "text": [
      "\u001b[0m16:35:10  Running with dbt=1.10.9\n",
      "\u001b[0m16:35:10  Registered adapter: duckdb=1.9.4\n",
      "\u001b[0m16:35:11  Found 14 models, 2 analyses, 3 seeds, 5 operations, 156 data tests, 6 sources, 849 macros\n",
      "\u001b[0m16:35:11  \n",
      "\u001b[0m16:35:11  Concurrency: 1 threads (target='dev')\n",
      "\u001b[0m16:35:11  \n",
      "\u001b[0m16:35:11  Iniciando ejecución de dbt\n",
      "\u001b[0m16:35:11  1 of 3 START hook: workshop_dbt.on-run-start.0 ................................. [RUN]\n",
      "\u001b[0m16:35:11  1 of 3 OK hook: workshop_dbt.on-run-start.0 .................................... [\u001b[32mOK\u001b[0m in 0.01s]\n",
      "\u001b[0m16:35:11  Tabla de auditoría ya existe: main.dbt_audit\n",
      "\u001b[0m16:35:11  2 of 3 START hook: workshop_dbt.on-run-start.1 ................................. [RUN]\n",
      "\u001b[0m16:35:11  2 of 3 OK hook: workshop_dbt.on-run-start.1 .................................... [\u001b[32mOK\u001b[0m in 0.01s]\n",
      "\u001b[0m16:35:11  Inicio de ejecución registrado en auditoría. ID: 11\n",
      "\u001b[0m16:35:11  3 of 3 START hook: workshop_dbt.on-run-start.2 ................................. [RUN]\n",
      "\u001b[0m16:35:11  3 of 3 OK hook: workshop_dbt.on-run-start.2 .................................... [\u001b[32mOK\u001b[0m in 0.01s]\n",
      "\u001b[0m16:35:11  \n",
      "\u001b[0m16:35:11  1 of 26 START test accepted_values_cabecera_tickets_metodo_pago__Tarjeta__Efectivo__Transferencia__Bizum  [RUN]\n",
      "\u001b[0m16:35:11  1 of 26 PASS accepted_values_cabecera_tickets_metodo_pago__Tarjeta__Efectivo__Transferencia__Bizum  [\u001b[32mPASS\u001b[0m in 0.03s]\n",
      "\u001b[0m16:35:11  2 of 26 START test accepted_values_centros_estado__Activo__Inactivo__Mantenimiento  [RUN]\n",
      "\u001b[0m16:35:11  2 of 26 PASS accepted_values_centros_estado__Activo__Inactivo__Mantenimiento ... [\u001b[32mPASS\u001b[0m in 0.01s]\n",
      "\u001b[0m16:35:11  3 of 26 START test fk_cabecera_centro .......................................... [RUN]\n",
      "\u001b[0m16:35:11  3 of 26 PASS fk_cabecera_centro ................................................ [\u001b[32mPASS\u001b[0m in 0.01s]\n",
      "\u001b[0m16:35:11  4 of 26 START test fk_lineas_cabecera .......................................... [RUN]\n",
      "\u001b[0m16:35:11  4 of 26 PASS fk_lineas_cabecera ................................................ [\u001b[32mPASS\u001b[0m in 0.01s]\n",
      "\u001b[0m16:35:11  5 of 26 START test not_null_cabecera_tickets_cod_centro ........................ [RUN]\n",
      "\u001b[0m16:35:11  5 of 26 PASS not_null_cabecera_tickets_cod_centro .............................. [\u001b[32mPASS\u001b[0m in 0.01s]\n",
      "\u001b[0m16:35:11  6 of 26 START test not_null_cabecera_tickets_empleado .......................... [RUN]\n",
      "\u001b[0m16:35:11  6 of 26 PASS not_null_cabecera_tickets_empleado ................................ [\u001b[32mPASS\u001b[0m in 0.01s]\n",
      "\u001b[0m16:35:11  7 of 26 START test not_null_cabecera_tickets_fecha_ticket ...................... [RUN]\n",
      "\u001b[0m16:35:11  7 of 26 PASS not_null_cabecera_tickets_fecha_ticket ............................ [\u001b[32mPASS\u001b[0m in 0.01s]\n",
      "\u001b[0m16:35:11  8 of 26 START test not_null_cabecera_tickets_hora_ticket ....................... [RUN]\n",
      "\u001b[0m16:35:11  8 of 26 PASS not_null_cabecera_tickets_hora_ticket ............................. [\u001b[32mPASS\u001b[0m in 0.01s]\n",
      "\u001b[0m16:35:11  9 of 26 START test not_null_cabecera_tickets_id_ticket ......................... [RUN]\n",
      "\u001b[0m16:35:11  9 of 26 PASS not_null_cabecera_tickets_id_ticket ............................... [\u001b[32mPASS\u001b[0m in 0.01s]\n",
      "\u001b[0m16:35:11  10 of 26 START test not_null_cabecera_tickets_metodo_pago ...................... [RUN]\n",
      "\u001b[0m16:35:11  10 of 26 PASS not_null_cabecera_tickets_metodo_pago ............................ [\u001b[32mPASS\u001b[0m in 0.01s]\n",
      "\u001b[0m16:35:11  11 of 26 START test not_null_cabecera_tickets_total_ticket ..................... [RUN]\n",
      "\u001b[0m16:35:11  11 of 26 PASS not_null_cabecera_tickets_total_ticket ........................... [\u001b[32mPASS\u001b[0m in 0.01s]\n",
      "\u001b[0m16:35:11  12 of 26 START test not_null_centros_ciudad .................................... [RUN]\n",
      "\u001b[0m16:35:11  12 of 26 PASS not_null_centros_ciudad .......................................... [\u001b[32mPASS\u001b[0m in 0.01s]\n",
      "\u001b[0m16:35:11  13 of 26 START test not_null_centros_cod_centro ................................ [RUN]\n",
      "\u001b[0m16:35:11  13 of 26 PASS not_null_centros_cod_centro ...................................... [\u001b[32mPASS\u001b[0m in 0.01s]\n",
      "\u001b[0m16:35:11  14 of 26 START test not_null_centros_nombre_centro ............................. [RUN]\n",
      "\u001b[0m16:35:11  14 of 26 PASS not_null_centros_nombre_centro ................................... [\u001b[32mPASS\u001b[0m in 0.01s]\n",
      "\u001b[0m16:35:11  15 of 26 START test not_null_lineas_tickets_cantidad ........................... [RUN]\n",
      "\u001b[0m16:35:11  15 of 26 PASS not_null_lineas_tickets_cantidad ................................. [\u001b[32mPASS\u001b[0m in 0.01s]\n",
      "\u001b[0m16:35:11  16 of 26 START test not_null_lineas_tickets_cod_producto ....................... [RUN]\n",
      "\u001b[0m16:35:11  16 of 26 PASS not_null_lineas_tickets_cod_producto ............................. [\u001b[32mPASS\u001b[0m in 0.01s]\n",
      "\u001b[0m16:35:11  17 of 26 START test not_null_lineas_tickets_id_linea_ticket .................... [RUN]\n",
      "\u001b[0m16:35:11  17 of 26 PASS not_null_lineas_tickets_id_linea_ticket .......................... [\u001b[32mPASS\u001b[0m in 0.01s]\n",
      "\u001b[0m16:35:11  18 of 26 START test not_null_lineas_tickets_id_ticket .......................... [RUN]\n",
      "\u001b[0m16:35:11  18 of 26 PASS not_null_lineas_tickets_id_ticket ................................ [\u001b[32mPASS\u001b[0m in 0.01s]\n",
      "\u001b[0m16:35:11  19 of 26 START test not_null_lineas_tickets_nombre_producto .................... [RUN]\n",
      "\u001b[0m16:35:11  19 of 26 PASS not_null_lineas_tickets_nombre_producto .......................... [\u001b[32mPASS\u001b[0m in 0.01s]\n",
      "\u001b[0m16:35:11  20 of 26 START test not_null_lineas_tickets_precio_unitario .................... [RUN]\n",
      "\u001b[0m16:35:11  20 of 26 PASS not_null_lineas_tickets_precio_unitario .......................... [\u001b[32mPASS\u001b[0m in 0.01s]\n",
      "\u001b[0m16:35:11  21 of 26 START test not_null_lineas_tickets_total_linea ........................ [RUN]\n",
      "\u001b[0m16:35:11  21 of 26 PASS not_null_lineas_tickets_total_linea .............................. [\u001b[32mPASS\u001b[0m in 0.01s]\n",
      "\u001b[0m16:35:11  22 of 26 START test source_relationships_bronze_cabecera_tickets_cod_centro__cod_centro__ref_centros_  [RUN]\n",
      "\u001b[0m16:35:11  22 of 26 PASS source_relationships_bronze_cabecera_tickets_cod_centro__cod_centro__ref_centros_  [\u001b[32mPASS\u001b[0m in 0.01s]\n",
      "\u001b[0m16:35:11  23 of 26 START test source_relationships_bronze_lineas_tickets_id_ticket__id_ticket__ref_cabecera_tickets_  [RUN]\n",
      "\u001b[0m16:35:11  23 of 26 PASS source_relationships_bronze_lineas_tickets_id_ticket__id_ticket__ref_cabecera_tickets_  [\u001b[32mPASS\u001b[0m in 0.01s]\n",
      "\u001b[0m16:35:11  24 of 26 START test unique_cabecera_tickets_id_ticket .......................... [RUN]\n",
      "\u001b[0m16:35:11  24 of 26 PASS unique_cabecera_tickets_id_ticket ................................ [\u001b[32mPASS\u001b[0m in 0.01s]\n",
      "\u001b[0m16:35:11  25 of 26 START test unique_centros_cod_centro .................................. [RUN]\n",
      "\u001b[0m16:35:11  25 of 26 PASS unique_centros_cod_centro ........................................ [\u001b[32mPASS\u001b[0m in 0.01s]\n",
      "\u001b[0m16:35:11  26 of 26 START test unique_ticket_linea ........................................ [RUN]\n",
      "\u001b[0m16:35:11  26 of 26 PASS unique_ticket_linea .............................................. [\u001b[32mPASS\u001b[0m in 0.05s]\n",
      "\u001b[0m16:35:11  \n",
      "\u001b[0m16:35:11  Finalizando ejecución de dbt\n",
      "\u001b[0m16:35:11  1 of 2 START hook: workshop_dbt.on-run-end.0 ................................... [RUN]\n",
      "\u001b[0m16:35:11  1 of 2 OK hook: workshop_dbt.on-run-end.0 ...................................... [\u001b[32mOK\u001b[0m in 0.00s]\n",
      "\u001b[0m16:35:11  Final de ejecución registrado en auditoría. ID: 11, Tiempo: 0.900402s\n",
      "\u001b[0m16:35:11  2 of 2 START hook: workshop_dbt.on-run-end.1 ................................... [RUN]\n",
      "\u001b[0m16:35:11  2 of 2 OK hook: workshop_dbt.on-run-end.1 ...................................... [\u001b[32mOK\u001b[0m in 0.01s]\n",
      "\u001b[0m16:35:11  \n",
      "\u001b[0m16:35:11  Finished running 5 project hooks, 26 data tests in 0 hours 0 minutes and 0.51 seconds (0.51s).\n",
      "\u001b[0m16:35:11  \n",
      "\u001b[0m16:35:11  \u001b[32mCompleted successfully\u001b[0m\n",
      "\u001b[0m16:35:11  \n",
      "\u001b[0m16:35:11  Done. PASS=31 WARN=0 ERROR=0 SKIP=0 NO-OP=0 TOTAL=31\n"
     ]
    }
   ],
   "source": [
    "!dbt test --select seeds/*"
   ]
  },
  {
   "cell_type": "markdown",
   "id": "002a107f",
   "metadata": {},
   "source": [
    "Para la capa bronze definiremos también los ficheros source.yml para referenciar los datos que hemos cargado externamente en modelos posteriores. Además dbt permite comprobar si los origenes se han actualizado recientemente mediante el parámetro freshness.\n",
    "Para realizar esta validación vamos a introducir también el concepto de variables de proyecto, estas estarán definidas en el fichero dbt_project.yml y podremos referenciarlas en los ficheros .yml mediante la función {{ var('nombre_variable') }}."
   ]
  },
  {
   "cell_type": "code",
   "execution_count": 23,
   "id": "e11b7afd",
   "metadata": {},
   "outputs": [
    {
     "name": "stdout",
     "output_type": "stream",
     "text": [
      "\u001b[0m16:58:45  Running with dbt=1.10.9\n",
      "\u001b[0m16:58:45  Registered adapter: duckdb=1.9.4\n",
      "\u001b[0m16:58:46  Found 14 models, 2 analyses, 3 seeds, 5 operations, 132 data tests, 3 sources, 849 macros\n",
      "\u001b[0m16:58:46  \n",
      "\u001b[0m16:58:46  Concurrency: 1 threads (target='dev')\n",
      "\u001b[0m16:58:46  \n",
      "\u001b[0m16:58:46  Iniciando ejecución de dbt\n",
      "\u001b[0m16:58:46  1 of 3 START hook: workshop_dbt.on-run-start.0 ................................. [RUN]\n",
      "\u001b[0m16:58:46  1 of 3 OK hook: workshop_dbt.on-run-start.0 .................................... [\u001b[32mOK\u001b[0m in 0.01s]\n",
      "\u001b[0m16:58:46  Tabla de auditoría ya existe: main.dbt_audit\n",
      "\u001b[0m16:58:46  2 of 3 START hook: workshop_dbt.on-run-start.1 ................................. [RUN]\n",
      "\u001b[0m16:58:46  2 of 3 OK hook: workshop_dbt.on-run-start.1 .................................... [\u001b[32mOK\u001b[0m in 0.01s]\n",
      "\u001b[0m16:58:46  Inicio de ejecución registrado en auditoría. ID: 12\n",
      "\u001b[0m16:58:46  3 of 3 START hook: workshop_dbt.on-run-start.2 ................................. [RUN]\n",
      "\u001b[0m16:58:46  3 of 3 OK hook: workshop_dbt.on-run-start.2 .................................... [\u001b[32mOK\u001b[0m in 0.01s]\n",
      "\u001b[0m16:58:46  \n",
      "\u001b[0m16:58:46  1 of 3 START freshness of bronze.cabecera_tickets_manual ....................... [RUN]\n",
      "\u001b[0m16:58:46  1 of 3 PASS freshness of bronze.cabecera_tickets_manual ........................ [\u001b[32mPASS\u001b[0m in 0.01s]\n",
      "\u001b[0m16:58:46  2 of 3 START freshness of bronze.centros_manual ................................ [RUN]\n",
      "\u001b[0m16:58:46  2 of 3 PASS freshness of bronze.centros_manual ................................. [\u001b[32mPASS\u001b[0m in 0.01s]\n",
      "\u001b[0m16:58:46  3 of 3 START freshness of bronze.lineas_tickets_manual ......................... [RUN]\n",
      "\u001b[0m16:58:46  3 of 3 PASS freshness of bronze.lineas_tickets_manual .......................... [\u001b[32mPASS\u001b[0m in 0.01s]\n",
      "\u001b[0m16:58:46  \n",
      "\u001b[0m16:58:46  Finalizando ejecución de dbt\n",
      "\u001b[0m16:58:46  1 of 2 START hook: workshop_dbt.on-run-end.0 ................................... [RUN]\n",
      "\u001b[0m16:58:46  1 of 2 OK hook: workshop_dbt.on-run-end.0 ...................................... [\u001b[32mOK\u001b[0m in 0.00s]\n",
      "\u001b[0m16:58:46  Final de ejecución registrado en auditoría. ID: 12, Tiempo: 0.566374s\n",
      "\u001b[0m16:58:46  2 of 2 START hook: workshop_dbt.on-run-end.1 ................................... [RUN]\n",
      "\u001b[0m16:58:46  2 of 2 OK hook: workshop_dbt.on-run-end.1 ...................................... [\u001b[32mOK\u001b[0m in 0.01s]\n",
      "\u001b[0m16:58:46  \n",
      "\u001b[0m16:58:46  Finished running 5 project hooks, 3 sources in 0 hours 0 minutes and 0.18 seconds (0.18s).\n",
      "\u001b[0m16:58:46  Done.\n"
     ]
    }
   ],
   "source": [
    "!dbt source freshness"
   ]
  },
  {
   "cell_type": "markdown",
   "id": "f7cccdd5",
   "metadata": {},
   "source": [
    "En este paso el proceso ha comprobado que los datos han sido cargados por debajo del valor de error de fresheness, en caso contrario el proceso habría fallado.\n",
    "Como podemos comprobar lanzando el proceso una hora más tarde."
   ]
  },
  {
   "cell_type": "code",
   "execution_count": 3,
   "id": "d13ef00c",
   "metadata": {},
   "outputs": [
    {
     "name": "stdout",
     "output_type": "stream",
     "text": [
      "\u001b[0m17:08:00  Running with dbt=1.10.9\n",
      "\u001b[0m17:08:00  Registered adapter: duckdb=1.9.4\n",
      "\u001b[0m17:08:02  Found 14 models, 2 analyses, 3 seeds, 5 operations, 132 data tests, 3 sources, 849 macros\n",
      "\u001b[0m17:08:02  \n",
      "\u001b[0m17:08:02  Concurrency: 1 threads (target='dev')\n",
      "\u001b[0m17:08:02  \n",
      "\u001b[0m17:08:03  Iniciando ejecución de dbt\n",
      "\u001b[0m17:08:03  1 of 3 START hook: workshop_dbt.on-run-start.0 ................................. [RUN]\n",
      "\u001b[0m17:08:03  1 of 3 OK hook: workshop_dbt.on-run-start.0 .................................... [\u001b[32mOK\u001b[0m in 0.01s]\n",
      "\u001b[0m17:08:03  Tabla de auditoría ya existe: main.dbt_audit\n",
      "\u001b[0m17:08:03  2 of 3 START hook: workshop_dbt.on-run-start.1 ................................. [RUN]\n",
      "\u001b[0m17:08:03  2 of 3 OK hook: workshop_dbt.on-run-start.1 .................................... [\u001b[32mOK\u001b[0m in 0.01s]\n",
      "\u001b[0m17:08:03  Inicio de ejecución registrado en auditoría. ID: 13\n",
      "\u001b[0m17:08:03  3 of 3 START hook: workshop_dbt.on-run-start.2 ................................. [RUN]\n",
      "\u001b[0m17:08:03  3 of 3 OK hook: workshop_dbt.on-run-start.2 .................................... [\u001b[32mOK\u001b[0m in 0.02s]\n",
      "\u001b[0m17:08:03  \n",
      "\u001b[0m17:08:03  1 of 3 START freshness of bronze.cabecera_tickets_manual ....................... [RUN]\n",
      "\u001b[0m17:08:03  1 of 3 ERROR STALE freshness of bronze.cabecera_tickets_manual ................. [\u001b[31mERROR STALE\u001b[0m in 0.01s]\n",
      "\u001b[0m17:08:03  2 of 3 START freshness of bronze.centros_manual ................................ [RUN]\n",
      "\u001b[0m17:08:03  2 of 3 ERROR STALE freshness of bronze.centros_manual .......................... [\u001b[31mERROR STALE\u001b[0m in 0.01s]\n",
      "\u001b[0m17:08:03  3 of 3 START freshness of bronze.lineas_tickets_manual ......................... [RUN]\n",
      "\u001b[0m17:08:03  3 of 3 ERROR STALE freshness of bronze.lineas_tickets_manual ................... [\u001b[31mERROR STALE\u001b[0m in 0.00s]\n",
      "\u001b[0m17:08:03  \n",
      "\u001b[0m17:08:03  Finalizando ejecución de dbt\n",
      "\u001b[0m17:08:03  1 of 2 START hook: workshop_dbt.on-run-end.0 ................................... [RUN]\n",
      "\u001b[0m17:08:03  1 of 2 OK hook: workshop_dbt.on-run-end.0 ...................................... [\u001b[32mOK\u001b[0m in 0.00s]\n",
      "\u001b[0m17:08:03  Final de ejecución registrado en auditoría. ID: 13, Tiempo: 0.291376s\n",
      "\u001b[0m17:08:03  2 of 2 START hook: workshop_dbt.on-run-end.1 ................................... [RUN]\n",
      "\u001b[0m17:08:03  2 of 2 OK hook: workshop_dbt.on-run-end.1 ...................................... [\u001b[32mOK\u001b[0m in 0.01s]\n",
      "\u001b[0m17:08:03  \n",
      "\u001b[0m17:08:03  Finished running 5 project hooks, 3 sources in 0 hours 0 minutes and 1.29 seconds (1.29s).\n",
      "\u001b[0m17:08:03  \n",
      "\u001b[0m17:08:03  \u001b[31mFailure in source cabecera_tickets_manual (models\\carpeta_bronze\\sources_manual.yml)\u001b[0m\n",
      "\u001b[0m17:08:03    Status: error\n",
      "\u001b[0m17:08:03  \n",
      "\u001b[0m17:08:03  \u001b[31mFailure in source centros_manual (models\\carpeta_bronze\\sources_manual.yml)\u001b[0m\n",
      "\u001b[0m17:08:03    Status: error\n",
      "\u001b[0m17:08:03  \n",
      "\u001b[0m17:08:03  \u001b[31mFailure in source lineas_tickets_manual (models\\carpeta_bronze\\sources_manual.yml)\u001b[0m\n",
      "\u001b[0m17:08:03    Status: error\n",
      "\u001b[0m17:08:03  Done.\n"
     ]
    }
   ],
   "source": [
    "!dbt source freshness"
   ]
  },
  {
   "cell_type": "markdown",
   "id": "aa1f465b",
   "metadata": {},
   "source": [
    "## Capa silver"
   ]
  },
  {
   "cell_type": "markdown",
   "id": "ded21767",
   "metadata": {},
   "source": [
    "Para la capa silver vamos a consolidar la información probando distintas estrategias de materialización existentes en dbt: truncate (table), merge (materialize con n unique_key) y append (materialize).\n",
    "Posteriormente utilizaremos los modelos merge para consolidar la información mediante los modelos _consolidados"
   ]
  },
  {
   "cell_type": "markdown",
   "id": "e3855b2d",
   "metadata": {},
   "source": [
    "En los modelos de la capa silver se utilizan variables pasadas por línea de comandos para definir el rango de fechas de los datos a procesar.\n",
    "Para ello utilizaremos el siguiente comando a la hora de ejecutar los modelos:\n",
    " * dbt run --select tag:tag_consolidados --vars '{\"start_date\": \"2024-01-01\", \"end_date\": \"2024-01-31\"}'\n",
    " * dbt test --select tag:tag_consolidados --vars '{\"start_date\": \"2024-01-01\", \"end_date\": \"2024-01-31\"}'\n",
    " * dbt build --select tag:tag_consolidados --vars '{\"start_date\": \"2024-01-01\", \"end_date\": \"2024-01-31\"}'"
   ]
  },
  {
   "cell_type": "code",
   "execution_count": 15,
   "id": "d117fd2c",
   "metadata": {},
   "outputs": [
    {
     "name": "stdout",
     "output_type": "stream",
     "text": [
      "\u001b[0m17:20:27  Running with dbt=1.10.9\n",
      "\u001b[0m17:20:27  Registered adapter: duckdb=1.9.4\n",
      "\u001b[0m17:20:27  Found 14 models, 2 analyses, 3 seeds, 5 operations, 132 data tests, 3 sources, 849 macros\n",
      "\u001b[0m17:20:27  \n",
      "\u001b[0m17:20:27  Concurrency: 1 threads (target='dev')\n",
      "\u001b[0m17:20:27  \n",
      "\u001b[0m17:20:27  Iniciando ejecución de dbt\n",
      "\u001b[0m17:20:27  1 of 3 START hook: workshop_dbt.on-run-start.0 ................................. [RUN]\n",
      "\u001b[0m17:20:27  1 of 3 OK hook: workshop_dbt.on-run-start.0 .................................... [\u001b[32mOK\u001b[0m in 0.01s]\n",
      "\u001b[0m17:20:27  Tabla de auditoría ya existe: main.dbt_audit\n",
      "\u001b[0m17:20:27  2 of 3 START hook: workshop_dbt.on-run-start.1 ................................. [RUN]\n",
      "\u001b[0m17:20:27  2 of 3 OK hook: workshop_dbt.on-run-start.1 .................................... [\u001b[32mOK\u001b[0m in 0.01s]\n",
      "\u001b[0m17:20:27  Inicio de ejecución registrado en auditoría. ID: 16\n",
      "\u001b[0m17:20:27  3 of 3 START hook: workshop_dbt.on-run-start.2 ................................. [RUN]\n",
      "\u001b[0m17:20:27  3 of 3 OK hook: workshop_dbt.on-run-start.2 .................................... [\u001b[32mOK\u001b[0m in 0.01s]\n",
      "\u001b[0m17:20:27  \n",
      "\u001b[0m17:20:27  1 of 3 START sql incremental model silver.cabecera_tickets_consolidados ........ [RUN]\n",
      "\u001b[0m17:20:28  1 of 3 OK created sql incremental model silver.cabecera_tickets_consolidados ... [\u001b[32mOK\u001b[0m in 0.06s]\n",
      "\u001b[0m17:20:28  2 of 3 START sql incremental model silver.centros_consolidados ................. [RUN]\n",
      "\u001b[0m17:20:28  2 of 3 OK created sql incremental model silver.centros_consolidados ............ [\u001b[32mOK\u001b[0m in 0.02s]\n",
      "\u001b[0m17:20:28  3 of 3 START sql incremental model silver.lineas_tickets_consolidados .......... [RUN]\n",
      "\u001b[0m17:20:28  3 of 3 OK created sql incremental model silver.lineas_tickets_consolidados ..... [\u001b[32mOK\u001b[0m in 0.02s]\n",
      "\u001b[0m17:20:28  \n",
      "\u001b[0m17:20:28  Finalizando ejecución de dbt\n",
      "\u001b[0m17:20:28  1 of 2 START hook: workshop_dbt.on-run-end.0 ................................... [RUN]\n",
      "\u001b[0m17:20:28  1 of 2 OK hook: workshop_dbt.on-run-end.0 ...................................... [\u001b[32mOK\u001b[0m in 0.00s]\n",
      "\u001b[0m17:20:28  Final de ejecución registrado en auditoría. ID: 16, Tiempo: 1.072384s\n",
      "\u001b[0m17:20:28  2 of 2 START hook: workshop_dbt.on-run-end.1 ................................... [RUN]\n",
      "\u001b[0m17:20:28  2 of 2 OK hook: workshop_dbt.on-run-end.1 ...................................... [\u001b[32mOK\u001b[0m in 0.01s]\n",
      "\u001b[0m17:20:28  \n",
      "\u001b[0m17:20:28  Finished running 3 incremental models, 5 project hooks in 0 hours 0 minutes and 0.26 seconds (0.26s).\n",
      "\u001b[0m17:20:28  \n",
      "\u001b[0m17:20:28  \u001b[32mCompleted successfully\u001b[0m\n",
      "\u001b[0m17:20:28  \n",
      "\u001b[0m17:20:28  Done. PASS=8 WARN=0 ERROR=0 SKIP=0 NO-OP=0 TOTAL=8\n"
     ]
    }
   ],
   "source": [
    "!dbt run --select tag:tag_consolidados --vars \"{\\\"start_date\\\": \\\"2024-01-01\\\", \\\"end_date\\\": \\\"2024-01-31\\\"}\""
   ]
  },
  {
   "cell_type": "code",
   "execution_count": 17,
   "id": "c0394d30",
   "metadata": {},
   "outputs": [
    {
     "name": "stdout",
     "output_type": "stream",
     "text": [
      "\u001b[0m17:21:02  Running with dbt=1.10.9\n",
      "\u001b[0m17:21:02  Registered adapter: duckdb=1.9.4\n",
      "\u001b[0m17:21:02  Found 14 models, 2 analyses, 3 seeds, 5 operations, 132 data tests, 3 sources, 849 macros\n",
      "\u001b[0m17:21:02  \n",
      "\u001b[0m17:21:02  Concurrency: 1 threads (target='dev')\n",
      "\u001b[0m17:21:02  \n",
      "\u001b[0m17:21:02  Iniciando ejecución de dbt\n",
      "\u001b[0m17:21:02  1 of 3 START hook: workshop_dbt.on-run-start.0 ................................. [RUN]\n",
      "\u001b[0m17:21:02  1 of 3 OK hook: workshop_dbt.on-run-start.0 .................................... [\u001b[32mOK\u001b[0m in 0.01s]\n",
      "\u001b[0m17:21:02  Tabla de auditoría ya existe: main.dbt_audit\n",
      "\u001b[0m17:21:02  2 of 3 START hook: workshop_dbt.on-run-start.1 ................................. [RUN]\n",
      "\u001b[0m17:21:02  2 of 3 OK hook: workshop_dbt.on-run-start.1 .................................... [\u001b[32mOK\u001b[0m in 0.01s]\n",
      "\u001b[0m17:21:03  Inicio de ejecución registrado en auditoría. ID: 18\n",
      "\u001b[0m17:21:03  3 of 3 START hook: workshop_dbt.on-run-start.2 ................................. [RUN]\n",
      "\u001b[0m17:21:03  3 of 3 OK hook: workshop_dbt.on-run-start.2 .................................... [\u001b[32mOK\u001b[0m in 0.01s]\n",
      "\u001b[0m17:21:03  \n",
      "\u001b[0m17:21:03  1 of 23 START test accepted_values_centros_consolidados_estado__Activo__Inactivo__Mantenimiento  [RUN]\n",
      "\u001b[0m17:21:03  1 of 23 PASS accepted_values_centros_consolidados_estado__Activo__Inactivo__Mantenimiento  [\u001b[32mPASS\u001b[0m in 0.02s]\n",
      "\u001b[0m17:21:03  2 of 23 START test not_null_cabecera_tickets_consolidados_cod_centro ........... [RUN]\n",
      "\u001b[0m17:21:03  2 of 23 PASS not_null_cabecera_tickets_consolidados_cod_centro ................. [\u001b[32mPASS\u001b[0m in 0.01s]\n",
      "\u001b[0m17:21:03  3 of 23 START test not_null_cabecera_tickets_consolidados_empleado ............. [RUN]\n",
      "\u001b[0m17:21:03  3 of 23 PASS not_null_cabecera_tickets_consolidados_empleado ................... [\u001b[32mPASS\u001b[0m in 0.01s]\n",
      "\u001b[0m17:21:03  4 of 23 START test not_null_cabecera_tickets_consolidados_fecha_ticket ......... [RUN]\n",
      "\u001b[0m17:21:03  4 of 23 PASS not_null_cabecera_tickets_consolidados_fecha_ticket ............... [\u001b[32mPASS\u001b[0m in 0.01s]\n",
      "\u001b[0m17:21:03  5 of 23 START test not_null_cabecera_tickets_consolidados_hora_ticket .......... [RUN]\n",
      "\u001b[0m17:21:03  5 of 23 PASS not_null_cabecera_tickets_consolidados_hora_ticket ................ [\u001b[32mPASS\u001b[0m in 0.01s]\n",
      "\u001b[0m17:21:03  6 of 23 START test not_null_cabecera_tickets_consolidados_id_ticket ............ [RUN]\n",
      "\u001b[0m17:21:03  6 of 23 PASS not_null_cabecera_tickets_consolidados_id_ticket .................. [\u001b[32mPASS\u001b[0m in 0.01s]\n",
      "\u001b[0m17:21:03  7 of 23 START test not_null_cabecera_tickets_consolidados_metodo_pago .......... [RUN]\n",
      "\u001b[0m17:21:03  7 of 23 PASS not_null_cabecera_tickets_consolidados_metodo_pago ................ [\u001b[32mPASS\u001b[0m in 0.01s]\n",
      "\u001b[0m17:21:03  8 of 23 START test not_null_cabecera_tickets_consolidados_total_ticket ......... [RUN]\n",
      "\u001b[0m17:21:03  8 of 23 PASS not_null_cabecera_tickets_consolidados_total_ticket ............... [\u001b[32mPASS\u001b[0m in 0.01s]\n",
      "\u001b[0m17:21:03  9 of 23 START test not_null_centros_consolidados_ciudad ........................ [RUN]\n",
      "\u001b[0m17:21:03  9 of 23 PASS not_null_centros_consolidados_ciudad .............................. [\u001b[32mPASS\u001b[0m in 0.01s]\n",
      "\u001b[0m17:21:03  10 of 23 START test not_null_centros_consolidados_cod_centro ................... [RUN]\n",
      "\u001b[0m17:21:03  10 of 23 PASS not_null_centros_consolidados_cod_centro ......................... [\u001b[32mPASS\u001b[0m in 0.01s]\n",
      "\u001b[0m17:21:03  11 of 23 START test not_null_centros_consolidados_nombre_centro ................ [RUN]\n",
      "\u001b[0m17:21:03  11 of 23 PASS not_null_centros_consolidados_nombre_centro ...................... [\u001b[32mPASS\u001b[0m in 0.01s]\n",
      "\u001b[0m17:21:03  12 of 23 START test not_null_lineas_tickets_consolidados_cantidad .............. [RUN]\n",
      "\u001b[0m17:21:03  12 of 23 PASS not_null_lineas_tickets_consolidados_cantidad .................... [\u001b[32mPASS\u001b[0m in 0.01s]\n",
      "\u001b[0m17:21:03  13 of 23 START test not_null_lineas_tickets_consolidados_cod_producto .......... [RUN]\n",
      "\u001b[0m17:21:03  13 of 23 PASS not_null_lineas_tickets_consolidados_cod_producto ................ [\u001b[32mPASS\u001b[0m in 0.01s]\n",
      "\u001b[0m17:21:03  14 of 23 START test not_null_lineas_tickets_consolidados_id_linea_ticket ....... [RUN]\n",
      "\u001b[0m17:21:03  14 of 23 PASS not_null_lineas_tickets_consolidados_id_linea_ticket ............. [\u001b[32mPASS\u001b[0m in 0.01s]\n",
      "\u001b[0m17:21:03  15 of 23 START test not_null_lineas_tickets_consolidados_id_ticket ............. [RUN]\n",
      "\u001b[0m17:21:03  15 of 23 PASS not_null_lineas_tickets_consolidados_id_ticket ................... [\u001b[32mPASS\u001b[0m in 0.01s]\n",
      "\u001b[0m17:21:03  16 of 23 START test not_null_lineas_tickets_consolidados_id_ticket_linea ....... [RUN]\n",
      "\u001b[0m17:21:03  16 of 23 PASS not_null_lineas_tickets_consolidados_id_ticket_linea ............. [\u001b[32mPASS\u001b[0m in 0.01s]\n",
      "\u001b[0m17:21:03  17 of 23 START test not_null_lineas_tickets_consolidados_nombre_producto ....... [RUN]\n",
      "\u001b[0m17:21:03  17 of 23 PASS not_null_lineas_tickets_consolidados_nombre_producto ............. [\u001b[32mPASS\u001b[0m in 0.01s]\n",
      "\u001b[0m17:21:03  18 of 23 START test not_null_lineas_tickets_consolidados_precio_unitario ....... [RUN]\n",
      "\u001b[0m17:21:03  18 of 23 PASS not_null_lineas_tickets_consolidados_precio_unitario ............. [\u001b[32mPASS\u001b[0m in 0.01s]\n",
      "\u001b[0m17:21:03  19 of 23 START test not_null_lineas_tickets_consolidados_total_linea ........... [RUN]\n",
      "\u001b[0m17:21:03  19 of 23 PASS not_null_lineas_tickets_consolidados_total_linea ................. [\u001b[32mPASS\u001b[0m in 0.01s]\n",
      "\u001b[0m17:21:03  20 of 23 START test singular_validar_mayusculas_centros_consolidados_ciudad .... [RUN]\n",
      "\u001b[0m17:21:03  20 of 23 PASS singular_validar_mayusculas_centros_consolidados_ciudad .......... [\u001b[32mPASS\u001b[0m in 0.01s]\n",
      "\u001b[0m17:21:03  21 of 23 START test unique_cabecera_tickets_consolidados_id_ticket ............. [RUN]\n",
      "\u001b[0m17:21:03  21 of 23 PASS unique_cabecera_tickets_consolidados_id_ticket ................... [\u001b[32mPASS\u001b[0m in 0.01s]\n",
      "\u001b[0m17:21:03  22 of 23 START test unique_centros_consolidados_cod_centro ..................... [RUN]\n",
      "\u001b[0m17:21:03  22 of 23 PASS unique_centros_consolidados_cod_centro ........................... [\u001b[32mPASS\u001b[0m in 0.01s]\n",
      "\u001b[0m17:21:03  23 of 23 START test unique_lineas_tickets_consolidados_id_ticket_linea ......... [RUN]\n",
      "\u001b[0m17:21:03  23 of 23 PASS unique_lineas_tickets_consolidados_id_ticket_linea ............... [\u001b[32mPASS\u001b[0m in 0.01s]\n",
      "\u001b[0m17:21:03  \n",
      "\u001b[0m17:21:03  Finalizando ejecución de dbt\n",
      "\u001b[0m17:21:03  1 of 2 START hook: workshop_dbt.on-run-end.0 ................................... [RUN]\n",
      "\u001b[0m17:21:03  1 of 2 OK hook: workshop_dbt.on-run-end.0 ...................................... [\u001b[32mOK\u001b[0m in 0.00s]\n",
      "\u001b[0m17:21:03  Final de ejecución registrado en auditoría. ID: 18, Tiempo: 0.296059s\n",
      "\u001b[0m17:21:03  2 of 2 START hook: workshop_dbt.on-run-end.1 ................................... [RUN]\n",
      "\u001b[0m17:21:03  2 of 2 OK hook: workshop_dbt.on-run-end.1 ...................................... [\u001b[32mOK\u001b[0m in 0.01s]\n",
      "\u001b[0m17:21:03  \n",
      "\u001b[0m17:21:03  Finished running 5 project hooks, 23 data tests in 0 hours 0 minutes and 0.41 seconds (0.41s).\n",
      "\u001b[0m17:21:03  \n",
      "\u001b[0m17:21:03  \u001b[32mCompleted successfully\u001b[0m\n",
      "\u001b[0m17:21:03  \n",
      "\u001b[0m17:21:03  Done. PASS=28 WARN=0 ERROR=0 SKIP=0 NO-OP=0 TOTAL=28\n"
     ]
    }
   ],
   "source": [
    "!dbt test --select tag:tag_consolidados --vars \"{\\\"start_date\\\": \\\"2024-01-01\\\", \\\"end_date\\\": \\\"2024-01-31\\\"}\""
   ]
  },
  {
   "cell_type": "code",
   "execution_count": 16,
   "id": "ab8109e6",
   "metadata": {},
   "outputs": [
    {
     "name": "stdout",
     "output_type": "stream",
     "text": [
      "\u001b[0m17:20:43  Running with dbt=1.10.9\n",
      "\u001b[0m17:20:43  Registered adapter: duckdb=1.9.4\n",
      "\u001b[0m17:20:44  Found 14 models, 2 analyses, 3 seeds, 5 operations, 132 data tests, 3 sources, 849 macros\n",
      "\u001b[0m17:20:44  \n",
      "\u001b[0m17:20:44  Concurrency: 1 threads (target='dev')\n",
      "\u001b[0m17:20:44  \n",
      "\u001b[0m17:20:44  Iniciando ejecución de dbt\n",
      "\u001b[0m17:20:44  1 of 3 START hook: workshop_dbt.on-run-start.0 ................................. [RUN]\n",
      "\u001b[0m17:20:44  1 of 3 OK hook: workshop_dbt.on-run-start.0 .................................... [\u001b[32mOK\u001b[0m in 0.01s]\n",
      "\u001b[0m17:20:44  Tabla de auditoría ya existe: main.dbt_audit\n",
      "\u001b[0m17:20:44  2 of 3 START hook: workshop_dbt.on-run-start.1 ................................. [RUN]\n",
      "\u001b[0m17:20:44  2 of 3 OK hook: workshop_dbt.on-run-start.1 .................................... [\u001b[32mOK\u001b[0m in 0.01s]\n",
      "\u001b[0m17:20:44  Inicio de ejecución registrado en auditoría. ID: 17\n",
      "\u001b[0m17:20:44  3 of 3 START hook: workshop_dbt.on-run-start.2 ................................. [RUN]\n",
      "\u001b[0m17:20:44  3 of 3 OK hook: workshop_dbt.on-run-start.2 .................................... [\u001b[32mOK\u001b[0m in 0.01s]\n",
      "\u001b[0m17:20:44  \n",
      "\u001b[0m17:20:44  1 of 26 START sql incremental model silver.cabecera_tickets_consolidados ....... [RUN]\n",
      "\u001b[0m17:20:44  1 of 26 OK created sql incremental model silver.cabecera_tickets_consolidados .. [\u001b[32mOK\u001b[0m in 0.07s]\n",
      "\u001b[0m17:20:44  2 of 26 START sql incremental model silver.centros_consolidados ................ [RUN]\n",
      "\u001b[0m17:20:44  2 of 26 OK created sql incremental model silver.centros_consolidados ........... [\u001b[32mOK\u001b[0m in 0.02s]\n",
      "\u001b[0m17:20:44  3 of 26 START sql incremental model silver.lineas_tickets_consolidados ......... [RUN]\n",
      "\u001b[0m17:20:44  3 of 26 OK created sql incremental model silver.lineas_tickets_consolidados .... [\u001b[32mOK\u001b[0m in 0.02s]\n",
      "\u001b[0m17:20:44  4 of 26 START test not_null_cabecera_tickets_consolidados_cod_centro ........... [RUN]\n",
      "\u001b[0m17:20:44  4 of 26 PASS not_null_cabecera_tickets_consolidados_cod_centro ................. [\u001b[32mPASS\u001b[0m in 0.02s]\n",
      "\u001b[0m17:20:44  5 of 26 START test not_null_cabecera_tickets_consolidados_empleado ............. [RUN]\n",
      "\u001b[0m17:20:44  5 of 26 PASS not_null_cabecera_tickets_consolidados_empleado ................... [\u001b[32mPASS\u001b[0m in 0.01s]\n",
      "\u001b[0m17:20:44  6 of 26 START test not_null_cabecera_tickets_consolidados_fecha_ticket ......... [RUN]\n",
      "\u001b[0m17:20:44  6 of 26 PASS not_null_cabecera_tickets_consolidados_fecha_ticket ............... [\u001b[32mPASS\u001b[0m in 0.01s]\n",
      "\u001b[0m17:20:44  7 of 26 START test not_null_cabecera_tickets_consolidados_hora_ticket .......... [RUN]\n",
      "\u001b[0m17:20:44  7 of 26 PASS not_null_cabecera_tickets_consolidados_hora_ticket ................ [\u001b[32mPASS\u001b[0m in 0.04s]\n",
      "\u001b[0m17:20:44  8 of 26 START test not_null_cabecera_tickets_consolidados_id_ticket ............ [RUN]\n",
      "\u001b[0m17:20:44  8 of 26 PASS not_null_cabecera_tickets_consolidados_id_ticket .................. [\u001b[32mPASS\u001b[0m in 0.01s]\n",
      "\u001b[0m17:20:44  9 of 26 START test not_null_cabecera_tickets_consolidados_metodo_pago .......... [RUN]\n",
      "\u001b[0m17:20:44  9 of 26 PASS not_null_cabecera_tickets_consolidados_metodo_pago ................ [\u001b[32mPASS\u001b[0m in 0.01s]\n",
      "\u001b[0m17:20:44  10 of 26 START test not_null_cabecera_tickets_consolidados_total_ticket ........ [RUN]\n",
      "\u001b[0m17:20:44  10 of 26 PASS not_null_cabecera_tickets_consolidados_total_ticket .............. [\u001b[32mPASS\u001b[0m in 0.01s]\n",
      "\u001b[0m17:20:44  11 of 26 START test unique_cabecera_tickets_consolidados_id_ticket ............. [RUN]\n",
      "\u001b[0m17:20:44  11 of 26 PASS unique_cabecera_tickets_consolidados_id_ticket ................... [\u001b[32mPASS\u001b[0m in 0.01s]\n",
      "\u001b[0m17:20:44  12 of 26 START test accepted_values_centros_consolidados_estado__Activo__Inactivo__Mantenimiento  [RUN]\n",
      "\u001b[0m17:20:44  12 of 26 PASS accepted_values_centros_consolidados_estado__Activo__Inactivo__Mantenimiento  [\u001b[32mPASS\u001b[0m in 0.01s]\n",
      "\u001b[0m17:20:44  13 of 26 START test not_null_centros_consolidados_ciudad ....................... [RUN]\n",
      "\u001b[0m17:20:44  13 of 26 PASS not_null_centros_consolidados_ciudad ............................. [\u001b[32mPASS\u001b[0m in 0.01s]\n",
      "\u001b[0m17:20:44  14 of 26 START test not_null_centros_consolidados_cod_centro ................... [RUN]\n",
      "\u001b[0m17:20:44  14 of 26 PASS not_null_centros_consolidados_cod_centro ......................... [\u001b[32mPASS\u001b[0m in 0.01s]\n",
      "\u001b[0m17:20:44  15 of 26 START test not_null_centros_consolidados_nombre_centro ................ [RUN]\n",
      "\u001b[0m17:20:44  15 of 26 PASS not_null_centros_consolidados_nombre_centro ...................... [\u001b[32mPASS\u001b[0m in 0.01s]\n",
      "\u001b[0m17:20:44  16 of 26 START test singular_validar_mayusculas_centros_consolidados_ciudad .... [RUN]\n",
      "\u001b[0m17:20:44  16 of 26 PASS singular_validar_mayusculas_centros_consolidados_ciudad .......... [\u001b[32mPASS\u001b[0m in 0.01s]\n",
      "\u001b[0m17:20:44  17 of 26 START test unique_centros_consolidados_cod_centro ..................... [RUN]\n",
      "\u001b[0m17:20:44  17 of 26 PASS unique_centros_consolidados_cod_centro ........................... [\u001b[32mPASS\u001b[0m in 0.01s]\n",
      "\u001b[0m17:20:44  18 of 26 START test not_null_lineas_tickets_consolidados_cantidad .............. [RUN]\n",
      "\u001b[0m17:20:44  18 of 26 PASS not_null_lineas_tickets_consolidados_cantidad .................... [\u001b[32mPASS\u001b[0m in 0.01s]\n",
      "\u001b[0m17:20:44  19 of 26 START test not_null_lineas_tickets_consolidados_cod_producto .......... [RUN]\n",
      "\u001b[0m17:20:44  19 of 26 PASS not_null_lineas_tickets_consolidados_cod_producto ................ [\u001b[32mPASS\u001b[0m in 0.01s]\n",
      "\u001b[0m17:20:44  20 of 26 START test not_null_lineas_tickets_consolidados_id_linea_ticket ....... [RUN]\n",
      "\u001b[0m17:20:44  20 of 26 PASS not_null_lineas_tickets_consolidados_id_linea_ticket ............. [\u001b[32mPASS\u001b[0m in 0.01s]\n",
      "\u001b[0m17:20:44  21 of 26 START test not_null_lineas_tickets_consolidados_id_ticket ............. [RUN]\n",
      "\u001b[0m17:20:44  21 of 26 PASS not_null_lineas_tickets_consolidados_id_ticket ................... [\u001b[32mPASS\u001b[0m in 0.01s]\n",
      "\u001b[0m17:20:44  22 of 26 START test not_null_lineas_tickets_consolidados_id_ticket_linea ....... [RUN]\n",
      "\u001b[0m17:20:44  22 of 26 PASS not_null_lineas_tickets_consolidados_id_ticket_linea ............. [\u001b[32mPASS\u001b[0m in 0.01s]\n",
      "\u001b[0m17:20:44  23 of 26 START test not_null_lineas_tickets_consolidados_nombre_producto ....... [RUN]\n",
      "\u001b[0m17:20:44  23 of 26 PASS not_null_lineas_tickets_consolidados_nombre_producto ............. [\u001b[32mPASS\u001b[0m in 0.01s]\n",
      "\u001b[0m17:20:44  24 of 26 START test not_null_lineas_tickets_consolidados_precio_unitario ....... [RUN]\n",
      "\u001b[0m17:20:44  24 of 26 PASS not_null_lineas_tickets_consolidados_precio_unitario ............. [\u001b[32mPASS\u001b[0m in 0.01s]\n",
      "\u001b[0m17:20:44  25 of 26 START test not_null_lineas_tickets_consolidados_total_linea ........... [RUN]\n",
      "\u001b[0m17:20:44  25 of 26 PASS not_null_lineas_tickets_consolidados_total_linea ................. [\u001b[32mPASS\u001b[0m in 0.01s]\n",
      "\u001b[0m17:20:44  26 of 26 START test unique_lineas_tickets_consolidados_id_ticket_linea ......... [RUN]\n",
      "\u001b[0m17:20:44  26 of 26 PASS unique_lineas_tickets_consolidados_id_ticket_linea ............... [\u001b[32mPASS\u001b[0m in 0.01s]\n",
      "\u001b[0m17:20:44  \n",
      "\u001b[0m17:20:44  Finalizando ejecución de dbt\n",
      "\u001b[0m17:20:44  1 of 2 START hook: workshop_dbt.on-run-end.0 ................................... [RUN]\n",
      "\u001b[0m17:20:44  1 of 2 OK hook: workshop_dbt.on-run-end.0 ...................................... [\u001b[32mOK\u001b[0m in 0.00s]\n",
      "\u001b[0m17:20:44  Final de ejecución registrado en auditoría. ID: 17, Tiempo: 0.736464s\n",
      "\u001b[0m17:20:44  2 of 2 START hook: workshop_dbt.on-run-end.1 ................................... [RUN]\n",
      "\u001b[0m17:20:44  2 of 2 OK hook: workshop_dbt.on-run-end.1 ...................................... [\u001b[32mOK\u001b[0m in 0.01s]\n",
      "\u001b[0m17:20:44  \n",
      "\u001b[0m17:20:44  Finished running 3 incremental models, 5 project hooks, 23 data tests in 0 hours 0 minutes and 0.54 seconds (0.54s).\n",
      "\u001b[0m17:20:44  \n",
      "\u001b[0m17:20:44  \u001b[32mCompleted successfully\u001b[0m\n",
      "\u001b[0m17:20:44  \n",
      "\u001b[0m17:20:44  Done. PASS=31 WARN=0 ERROR=0 SKIP=0 NO-OP=0 TOTAL=31\n"
     ]
    }
   ],
   "source": [
    "!dbt build --select tag:tag_consolidados --vars \"{\\\"start_date\\\": \\\"2024-01-01\\\", \\\"end_date\\\": \\\"2024-01-31\\\"}\""
   ]
  },
  {
   "cell_type": "markdown",
   "id": "dd791991",
   "metadata": {},
   "source": [
    "Si vamos a la carpeta target podemos ver como se han implementado los diferentes modelos, en este caso estamos utilizando distintas estrategias de materialización dentro de append (los distintos tipos de materialización, así como las estretegias que pueden utilizarse difieren en función de la base de datos) )"
   ]
  },
  {
   "cell_type": "markdown",
   "id": "dccfada1",
   "metadata": {},
   "source": [
    "Los tests de estos modelos se han definido aprovechando el propio yaml del source, en ellos tenemos tests propios de dbt (not_null, unique, relationships), tests singulares (personalizados para validar que en un descriptivo existe al menos una mayúscula) y tests descargados de dbt-utils (unique de varios valores)."
   ]
  },
  {
   "cell_type": "markdown",
   "id": "1c484c02",
   "metadata": {},
   "source": [
    "## Capa gold"
   ]
  },
  {
   "cell_type": "markdown",
   "id": "bcf46d8e",
   "metadata": {},
   "source": [
    "La capa gold es la capa final en un pipeline de datos, donde los datos han sido completamente transformados, limpiados y enriquecidos para su uso en análisis y toma de decisiones. Esta capa está pensada para ser utilizada por los usuarios finales, ya sea mediante queries de autoservicio como dashboards o informes."
   ]
  },
  {
   "cell_type": "markdown",
   "id": "c9e6de19",
   "metadata": {},
   "source": [
    "Hemos aprovechado esta capa para introducir la ejecución de queries antes (o después de la ejecución de los modelos dbt) mediante los atributos pre_hook y post_hook."
   ]
  },
  {
   "cell_type": "code",
   "execution_count": 23,
   "id": "c6745499",
   "metadata": {},
   "outputs": [
    {
     "name": "stdout",
     "output_type": "stream",
     "text": [
      "\u001b[0m17:48:54  Running with dbt=1.10.9\n",
      "\u001b[0m17:48:54  Registered adapter: duckdb=1.9.4\n",
      "\u001b[0m17:48:54  Found 14 models, 2 analyses, 3 seeds, 5 operations, 132 data tests, 3 sources, 849 macros\n",
      "\u001b[0m17:48:54  \n",
      "\u001b[0m17:48:54  Concurrency: 1 threads (target='dev')\n",
      "\u001b[0m17:48:54  \n",
      "\u001b[0m17:48:55  Iniciando ejecución de dbt\n",
      "\u001b[0m17:48:55  1 of 3 START hook: workshop_dbt.on-run-start.0 ................................. [RUN]\n",
      "\u001b[0m17:48:55  1 of 3 OK hook: workshop_dbt.on-run-start.0 .................................... [\u001b[32mOK\u001b[0m in 0.01s]\n",
      "\u001b[0m17:48:55  Tabla de auditoría ya existe: main.dbt_audit\n",
      "\u001b[0m17:48:55  2 of 3 START hook: workshop_dbt.on-run-start.1 ................................. [RUN]\n",
      "\u001b[0m17:48:55  2 of 3 OK hook: workshop_dbt.on-run-start.1 .................................... [\u001b[32mOK\u001b[0m in 0.01s]\n",
      "\u001b[0m17:48:55  Inicio de ejecución registrado en auditoría. ID: 19\n",
      "\u001b[0m17:48:55  3 of 3 START hook: workshop_dbt.on-run-start.2 ................................. [RUN]\n",
      "\u001b[0m17:48:55  3 of 3 OK hook: workshop_dbt.on-run-start.2 .................................... [\u001b[32mOK\u001b[0m in 0.01s]\n",
      "\u001b[0m17:48:55  \n",
      "\u001b[0m17:48:55  1 of 2 START sql view model gold.dimension_centros ............................. [RUN]\n",
      "\u001b[0m17:48:55  1 of 2 OK created sql view model gold.dimension_centros ........................ [\u001b[32mOK\u001b[0m in 0.04s]\n",
      "\u001b[0m17:48:55  2 of 2 START sql incremental model gold.tablon_tickets_completo ................ [RUN]\n",
      "\u001b[0m17:48:55  Checking if table exists: gold.tablon_tickets_completo\n",
      "\u001b[0m17:48:55  Table gold.tablon_tickets_completo exists, proceeding with data deletion\n",
      "\u001b[0m17:48:55  Deleting data older than 2023-09-01 from \"dev\".\"gold\".\"tablon_tickets_completo\"\n",
      "\u001b[0m17:48:55  Successfully deleted old data from \"dev\".\"gold\".\"tablon_tickets_completo\"\n",
      "\u001b[0m17:48:56  2 of 2 OK created sql incremental model gold.tablon_tickets_completo ........... [\u001b[32mOK\u001b[0m in 0.07s]\n",
      "\u001b[0m17:48:56  \n",
      "\u001b[0m17:48:56  Finalizando ejecución de dbt\n",
      "\u001b[0m17:48:56  1 of 2 START hook: workshop_dbt.on-run-end.0 ................................... [RUN]\n",
      "\u001b[0m17:48:56  1 of 2 OK hook: workshop_dbt.on-run-end.0 ...................................... [\u001b[32mOK\u001b[0m in 0.00s]\n",
      "\u001b[0m17:48:56  Final de ejecución registrado en auditoría. ID: 19, Tiempo: 1.015294s\n",
      "\u001b[0m17:48:56  2 of 2 START hook: workshop_dbt.on-run-end.1 ................................... [RUN]\n",
      "\u001b[0m17:48:56  2 of 2 OK hook: workshop_dbt.on-run-end.1 ...................................... [\u001b[32mOK\u001b[0m in 0.01s]\n",
      "\u001b[0m17:48:56  \n",
      "\u001b[0m17:48:56  Finished running 1 incremental model, 5 project hooks, 1 view model in 0 hours 0 minutes and 1.15 seconds (1.15s).\n",
      "\u001b[0m17:48:56  \n",
      "\u001b[0m17:48:56  \u001b[32mCompleted successfully\u001b[0m\n",
      "\u001b[0m17:48:56  \n",
      "\u001b[0m17:48:56  Done. PASS=7 WARN=0 ERROR=0 SKIP=0 NO-OP=0 TOTAL=7\n"
     ]
    }
   ],
   "source": [
    "!dbt build --select carpeta_gold* --vars \"{\\\"start_date\\\": \\\"2024-01-01\\\", \\\"end_date\\\": \\\"2024-01-31\\\"}\""
   ]
  },
  {
   "cell_type": "markdown",
   "id": "1c335d47",
   "metadata": {},
   "source": [
    "## Monitorización y linage"
   ]
  },
  {
   "cell_type": "markdown",
   "id": "0fb298ff",
   "metadata": {},
   "source": [
    "Para monitorizar la ejecución de los diferentes modelos, tests, seeds y, en general, cualquier comando dbt se pueden utilizar los artefactos, sin entrar en detalles, los artefactos son una serie de ficheros JSON que se generan en la carpeta target después de ejecutar cualquier comando dbt. Estos ficheros contienen información muy útil sobre la ejecución, como por ejemplo:\n",
    "- El estado de la ejecución (éxito, fallo, advertencia, etc.)\n",
    "- El tiempo que ha tardado en ejecutarse cada modelo o test.\n",
    "- Los errores que se han producido durante la ejecución.\n",
    "\n",
    "Estos objetos pueden ser referenciados mediante variables internas de dbt, por ejemplo:\n",
    "- `{{ run_started_at }}`: Fecha y hora de inicio de la ejecución.\n",
    "- `{{ run_finished_at }}`: Fecha y hora de finalización de la ejecución.\n",
    "- `{{ run_duration }}`: Duración total de la ejecución en segundos.\n",
    "- `{{ invocation_id }}`: Identificador único de la ejecución.\n",
    "...\n",
    "\n",
    "Vamos a aprovechar la existencia de dichas variables para crear un modelo que nos permita monitorizar las ejecuciones de los diferentes modelos y tests.\n",
    "En este caso configuraremos el modelo dbt_audit para ello."
   ]
  },
  {
   "cell_type": "code",
   "execution_count": null,
   "id": "87c0076b",
   "metadata": {},
   "outputs": [],
   "source": [
    "!duckdb.exe dev.db -s \".read analyses/select_audit.sql\""
   ]
  }
 ],
 "metadata": {
  "kernelspec": {
   "display_name": ".venv",
   "language": "python",
   "name": "python3"
  },
  "language_info": {
   "codemirror_mode": {
    "name": "ipython",
    "version": 3
   },
   "file_extension": ".py",
   "mimetype": "text/x-python",
   "name": "python",
   "nbconvert_exporter": "python",
   "pygments_lexer": "ipython3",
   "version": "3.11.9"
  }
 },
 "nbformat": 4,
 "nbformat_minor": 5
}
